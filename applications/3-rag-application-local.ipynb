{
 "cells": [
  {
   "cell_type": "code",
   "execution_count": null,
   "metadata": {},
   "outputs": [],
   "source": [
    "import os \n",
    "import numpy as np\n",
    "from langchain_community.embeddings import HuggingFaceBgeEmbeddings, OpenAIEmbeddings\n",
    "from langchain_community.llms import HuggingFacePipeline\n",
    "from langchain_community.document_loaders import PyPDFLoader\n",
    "from langchain_community.document_loaders import PyPDFDirectoryLoader\n",
    "from langchain.text_splitter import RecursiveCharacterTextSplitter\n",
    "from langchain_community.vectorstores import FAISS\n",
    "from langchain.chains import RetrievalQA\n",
    "from langchain.prompts import PromptTemplate\n",
    "     "
   ]
  },
  {
   "cell_type": "code",
   "execution_count": 12,
   "metadata": {},
   "outputs": [],
   "source": [
    "from urllib.request import urlretrieve"
   ]
  },
  {
   "cell_type": "code",
   "execution_count": 13,
   "metadata": {},
   "outputs": [],
   "source": [
    "files = [\n",
    "    \"https://www.census.gov/content/dam/Census/library/publications/2022/demo/p70-178.pdf\",\n",
    "    \"https://www.census.gov/content/dam/Census/library/publications/2023/acs/acsbr-017.pdf\",\n",
    "    \"https://www.census.gov/content/dam/Census/library/publications/2023/acs/acsbr-016.pdf\",\n",
    "    \"https://www.census.gov/content/dam/Census/library/publications/2023/acs/acsbr-015.pdf\",\n",
    "]\n",
    "os.makedirs(\"us_census\", exist_ok=True)"
   ]
  },
  {
   "cell_type": "code",
   "execution_count": 14,
   "metadata": {},
   "outputs": [],
   "source": [
    "for url in files:\n",
    "    file_path = os.path.join(\"us_census\", url.rpartition(\"/\")[2])\n",
    "    urlretrieve(url, file_path)"
   ]
  },
  {
   "cell_type": "code",
   "execution_count": 15,
   "metadata": {},
   "outputs": [],
   "source": [
    "loader = PyPDFDirectoryLoader(\"./us_census/\")"
   ]
  },
  {
   "cell_type": "code",
   "execution_count": 16,
   "metadata": {},
   "outputs": [],
   "source": [
    "docs_before_split = loader.load()"
   ]
  },
  {
   "cell_type": "code",
   "execution_count": 22,
   "metadata": {},
   "outputs": [
    {
     "data": {
      "text/plain": [
       "Document(metadata={'source': 'us_census/acsbr-015.pdf', 'page': 0}, page_content='Health Insurance Coverage Status and Type \\nby Geography: 2021 and 2022\\nAmerican Community Survey Briefs\\nACSBR-015\\nIssued September 2023\\nDouglas Conway and Breauna Branch\\nINTRODUCTION\\nDemographic shifts as well as economic and govern-\\nment policy changes can affect people’s access to \\nhealth coverage. For example, between 2021 and 2022, \\nthe labor market continued to improve, which may \\nhave affected private coverage in the United States \\nduring that time.1 Public policy changes included \\nthe renewal of the Public Health Emergency, which \\nallowed Medicaid enrollees to remain covered under \\nthe Continuous Enrollment Provision.2 The American \\nRescue Plan (ARP) enhanced Marketplace premium \\nsubsidies for those with incomes above 400 percent \\nof the poverty level as well as for unemployed people.3\\nIn addition to national policies, individual states and \\nthe District of Columbia can affect health insurance \\ncoverage by making Marketplace or Medicaid more \\naccessible and affordable. This variation may be \\nmore or less pronounced across states. Missouri and \\nOklahoma expanded Medicaid eligibility under the \\nPatient Protection and Affordable Care Act (ACA) in \\n2022, leaving only twelve states without expanded \\nMedicaid eligibility, primarily in the South and parts \\n1 The Bureau of Labor Statistics reported increases in national \\nemployment from 2021 to 2022. More information is available at \\n<www.bls.gov/opub/mlr/2023/article/unemployment-rate-returned-\\nto-its-prepandemic-level-in-2022.htm>.\\n2 Juliette Cubanski et al., “What Happens When COVID-19 \\nEmergency Declarations End? Implications for Coverage, Costs, and \\nAccess?,” Kaiser Family Foundation, 2023, <www.kff.org/coronavirus-\\ncovid-19/issue-brief/what-happens-when-covid-19-emergency-\\ndeclarations-end-implications-for-coverage-costs-and-access/>.\\n3 For more information, refer to the American Rescue Plan Act, \\nP.L. 117-2, March 11, 2021, <www.congress.gov/bill/117th-congress/\\nhouse-bill/1319/text>.\\nof the Midwest.4, 5 Kentucky, Maine, and New Mexico \\ncreated state-based health insurance marketplaces on \\nNovember 1, 2021, to replace their previously federally \\nrun exchanges.6 State and federal policies designed to \\nincrease public coverage may also affect the supply \\nand demand for private coverage. As a result, a variety \\nof changes in coverage rates are possible. \\nThis brief uses the 2021 and 2022 American \\nCommunity Survey (ACS) 1-year estimates to exam-\\nine differences in health insurance coverage status \\nand select subtypes (Medicaid, direct purchase, \\nand employer-based) for the 50 states, the District \\nof Columbia, and the 25 most populous metro-\\npolitan areas (refer to the “What Is Health Insurance \\nCoverage?” text box).7 It also examines year-to-year \\nchanges (2021 to 2022) across these geographies. \\n4 Note that for the purposes of this brief, we consider a state \\nto have expanded Medicaid eligibility if it expanded eligibility on \\nor before January 1st of that expansion year. For a state to have \\nexpanded Medicaid eligibility in 2022, it would have had to expand \\neligibility after January 1, 2021, but before January 1, 2022. For more \\ninformation, refer to the Patient Protection and Affordable Care \\nAct, P.L. 111-148, March 23, 2010, available at <www.congress.gov/\\nbill/111th-congress/house-bill/3590>.\\n5 For more information on the U.S. Census Bureau’s geographic \\nlevels, refer to Geographic Levels at <www.census.gov/programs-\\nsurveys/economic-census/guidance-geographies/levels.html>.\\n6 “Kentucky, Maine, and New Mexico Launch State Marketplaces \\nfor 2022 Coverage,” Centers for Medicare & Medicaid Services press \\nrelease, 2023, <www.cms.gov/newsroom/press-releases/kentucky-\\nmaine-and-new-mexico-launch-state-marketplaces-2022-coverage>.\\n7 The Census Bureau has reviewed this data product to ensure \\nappropriate access, use, and disclosure avoidance protection \\nof the confidential source data used to produce this product \\n(Disclosure Review Board (DRB) approval number: CBDRB-FY23-\\nSEHSD003-049). For information on confidentiality protection, \\nsampling error, nonsampling error, and definitions in the American \\nCommunity Survey, refer to <https:/ /www2.census.gov/programs-\\nsurveys/acs/tech_docs/accuracy/ACS_Accuracy_of_Data_2022.pdf>.')"
      ]
     },
     "execution_count": 22,
     "metadata": {},
     "output_type": "execute_result"
    }
   ],
   "source": [
    "docs_before_split[0]"
   ]
  },
  {
   "cell_type": "code",
   "execution_count": 23,
   "metadata": {},
   "outputs": [],
   "source": [
    "text_splitter =  RecursiveCharacterTextSplitter(\n",
    "    chunk_size =700,\n",
    "    chunk_overlap = 50\n",
    ")\n",
    "docs_after_split = text_splitter.split_documents(docs_before_split)\n"
   ]
  },
  {
   "cell_type": "code",
   "execution_count": 25,
   "metadata": {},
   "outputs": [
    {
     "data": {
      "text/plain": [
       "694"
      ]
     },
     "execution_count": 25,
     "metadata": {},
     "output_type": "execute_result"
    }
   ],
   "source": [
    "len(docs_after_split[0].page_content)"
   ]
  },
  {
   "cell_type": "code",
   "execution_count": 26,
   "metadata": {},
   "outputs": [],
   "source": [
    "avg_doc_length = lambda docs: sum([len(doc.page_content) for doc in docs])//len(docs)"
   ]
  },
  {
   "cell_type": "code",
   "execution_count": 28,
   "metadata": {},
   "outputs": [],
   "source": [
    "avg_char_before_split = avg_doc_length(docs_before_split)\n",
    "avg_char_after_split = avg_doc_length(docs_after_split)"
   ]
  },
  {
   "cell_type": "code",
   "execution_count": 29,
   "metadata": {},
   "outputs": [
    {
     "name": "stdout",
     "output_type": "stream",
     "text": [
      "before split: 3840\n",
      "after split: 624\n"
     ]
    }
   ],
   "source": [
    "print(f'before split: {avg_char_before_split}')\n",
    "print(f'after split: {avg_char_after_split}')"
   ]
  },
  {
   "cell_type": "code",
   "execution_count": 31,
   "metadata": {},
   "outputs": [],
   "source": [
    "huggingface_embeddings = HuggingFaceBgeEmbeddings(\n",
    "    model_name= \"sentence-transformers/all-MiniLM-L6-v2\",\n",
    "    model_kwargs = {'device' : 'cpu'},\n",
    "    encode_kwargs = {'normalize_embeddings' : True}\n",
    ")"
   ]
  },
  {
   "cell_type": "code",
   "execution_count": 33,
   "metadata": {},
   "outputs": [
    {
     "data": {
      "text/plain": [
       "[0.004552533384412527,\n",
       " 0.17278996109962463,\n",
       " 0.03477635607123375,\n",
       " 0.0057495031505823135,\n",
       " -0.026328837499022484,\n",
       " -0.04085700958967209,\n",
       " 0.022657906636595726,\n",
       " -0.04465891048312187,\n",
       " -0.018803752958774567,\n",
       " 0.008832539431750774,\n",
       " 0.040252480655908585,\n",
       " -0.034709054976701736,\n",
       " 0.01515104528516531,\n",
       " -0.014657329767942429,\n",
       " 0.07468857616186142,\n",
       " -0.04393269494175911,\n",
       " -0.056038498878479004,\n",
       " 0.020306657999753952,\n",
       " -0.058129020035266876,\n",
       " -0.04611072316765785,\n",
       " 0.08254802972078323,\n",
       " 0.10951979458332062,\n",
       " 0.014446097426116467,\n",
       " 0.02537935972213745,\n",
       " -0.08089366555213928,\n",
       " 0.015043871477246284,\n",
       " -0.003515329211950302,\n",
       " 0.013029907830059528,\n",
       " 0.09713467210531235,\n",
       " -0.061469580978155136,\n",
       " -0.027697762474417686,\n",
       " 0.001451222226023674,\n",
       " 0.0835321918129921,\n",
       " 0.01702164113521576,\n",
       " -0.010031119920313358,\n",
       " 0.08817797899246216,\n",
       " 0.053562235087156296,\n",
       " -0.03907563164830208,\n",
       " 0.028452137485146523,\n",
       " -0.05871637165546417,\n",
       " 0.024071093648672104,\n",
       " -0.03864138200879097,\n",
       " -0.04744638875126839,\n",
       " 0.0030063095036894083,\n",
       " -0.0009589474066160619,\n",
       " -0.02547125704586506,\n",
       " -0.09244748204946518,\n",
       " 0.05836129188537598,\n",
       " 0.03978352248668671,\n",
       " -0.01007428765296936,\n",
       " -0.158330038189888,\n",
       " -0.02914390154182911,\n",
       " -0.042263127863407135,\n",
       " -0.015313969925045967,\n",
       " 0.030486715957522392,\n",
       " -0.01583108678460121,\n",
       " -0.05683246999979019,\n",
       " -0.01864630915224552,\n",
       " 0.02859906665980816,\n",
       " -0.007004200480878353,\n",
       " -0.049681954085826874,\n",
       " 0.04801449924707413,\n",
       " -0.025477474555373192,\n",
       " 0.07540688663721085,\n",
       " 0.05992159992456436,\n",
       " -0.11676396429538727,\n",
       " 0.04171096906065941,\n",
       " 0.022335976362228394,\n",
       " -0.08330412954092026,\n",
       " -0.03607910871505737,\n",
       " -0.08870668709278107,\n",
       " -0.011484716087579727,\n",
       " -0.025705592706799507,\n",
       " -0.01579410396516323,\n",
       " -0.1351049542427063,\n",
       " -0.0459783636033535,\n",
       " -0.02148294821381569,\n",
       " -0.04448265582323074,\n",
       " -0.009350010193884373,\n",
       " -0.0018273164751008153,\n",
       " 0.06751002371311188,\n",
       " 0.014109140262007713,\n",
       " 0.01653181202709675,\n",
       " 0.062303327023983,\n",
       " 0.008359838277101517,\n",
       " 0.015217230655252934,\n",
       " -3.772870695684105e-05,\n",
       " -0.06270619481801987,\n",
       " 0.037467699497938156,\n",
       " -0.014134665951132774,\n",
       " -0.09862294048070908,\n",
       " -0.10270509868860245,\n",
       " 0.034290652722120285,\n",
       " 0.03468351066112518,\n",
       " -0.04601513594388962,\n",
       " 0.0337926521897316,\n",
       " 0.04493865743279457,\n",
       " 0.02964375913143158,\n",
       " -0.018838247284293175,\n",
       " 0.11069756746292114,\n",
       " 0.07106082141399384,\n",
       " 0.03405875340104103,\n",
       " 0.1042034775018692,\n",
       " 0.0318775549530983,\n",
       " -0.02096129208803177,\n",
       " 0.01691226288676262,\n",
       " -0.09639354050159454,\n",
       " 0.0783216804265976,\n",
       " 0.01126295980066061,\n",
       " -0.0468614399433136,\n",
       " -0.07700257748365402,\n",
       " -0.06822553277015686,\n",
       " -0.01647905819118023,\n",
       " -0.10532302409410477,\n",
       " 0.045781441032886505,\n",
       " -0.061551496386528015,\n",
       " 0.01597030647099018,\n",
       " 0.0009829102782532573,\n",
       " -0.03105182573199272,\n",
       " 0.06259893625974655,\n",
       " -0.022351399064064026,\n",
       " -0.004833405837416649,\n",
       " -0.007406545337289572,\n",
       " 0.03237902373075485,\n",
       " -0.01885261945426464,\n",
       " -0.00354251591488719,\n",
       " -0.028701992705464363,\n",
       " -2.8803048079412276e-33,\n",
       " 0.07627972960472107,\n",
       " 0.011193161830306053,\n",
       " 0.03263837844133377,\n",
       " 0.11858109384775162,\n",
       " -0.04796944558620453,\n",
       " -0.00017492160259280354,\n",
       " -0.06193584203720093,\n",
       " 0.04824451357126236,\n",
       " 0.01537668239325285,\n",
       " -0.0004849678080063313,\n",
       " 0.009007555432617664,\n",
       " 0.012562938034534454,\n",
       " -0.016215581446886063,\n",
       " 0.0322028324007988,\n",
       " -0.04731397703289986,\n",
       " -0.0004830244288314134,\n",
       " -0.08128369599580765,\n",
       " -0.00608073128387332,\n",
       " -0.05542780086398125,\n",
       " 0.07031560689210892,\n",
       " -0.02263134904205799,\n",
       " -0.006551855709403753,\n",
       " 0.013678702525794506,\n",
       " 0.05669568106532097,\n",
       " 0.04907139390707016,\n",
       " 0.013696734793484211,\n",
       " 0.020947035402059555,\n",
       " -0.0796104446053505,\n",
       " 0.024290408939123154,\n",
       " 0.03144070878624916,\n",
       " 0.04036916419863701,\n",
       " -0.054979030042886734,\n",
       " -0.027833852916955948,\n",
       " -0.028384262695908546,\n",
       " 0.047692712396383286,\n",
       " 0.07186499983072281,\n",
       " -0.04594697803258896,\n",
       " -0.08510418981313705,\n",
       " -0.07545586675405502,\n",
       " -0.046876076608896255,\n",
       " -0.025502465665340424,\n",
       " 0.03815431520342827,\n",
       " 0.06830739974975586,\n",
       " -0.0018402030691504478,\n",
       " -0.007344486657530069,\n",
       " 0.018273303285241127,\n",
       " -0.042522210627794266,\n",
       " 0.0012033488601446152,\n",
       " 0.02088339254260063,\n",
       " 0.06457796692848206,\n",
       " -0.04325738549232483,\n",
       " 0.07307327538728714,\n",
       " -0.06671401113271713,\n",
       " -0.00758990878239274,\n",
       " 0.03444257006049156,\n",
       " 0.05078371986746788,\n",
       " -0.021319784224033356,\n",
       " 0.05480946972966194,\n",
       " -0.05035803094506264,\n",
       " 0.06005042791366577,\n",
       " -0.03513404726982117,\n",
       " 0.015849940478801727,\n",
       " 0.05450332909822464,\n",
       " 0.019325612112879753,\n",
       " -0.024449560791254044,\n",
       " -0.03178432956337929,\n",
       " -0.01988857612013817,\n",
       " -0.013287252746522427,\n",
       " 0.03453028202056885,\n",
       " 0.00991615280508995,\n",
       " -0.017837191000580788,\n",
       " 0.007243937812745571,\n",
       " -0.015043962746858597,\n",
       " 0.07124587148427963,\n",
       " -0.0350460521876812,\n",
       " 0.0022827850189059973,\n",
       " 0.01001716312021017,\n",
       " -0.05302295461297035,\n",
       " 0.005792355630546808,\n",
       " -0.06864672899246216,\n",
       " -0.0070592863485217094,\n",
       " 0.013289546594023705,\n",
       " 0.030604517087340355,\n",
       " 0.03372598811984062,\n",
       " 0.08164659142494202,\n",
       " -0.06405898183584213,\n",
       " 0.032921843230724335,\n",
       " -0.11352769285440445,\n",
       " 0.008560865186154842,\n",
       " 0.024082308635115623,\n",
       " -0.017124129459261894,\n",
       " 0.06633567810058594,\n",
       " 0.0030532358214259148,\n",
       " -0.09561284631490707,\n",
       " -0.07655869424343109,\n",
       " 1.576081244240926e-34,\n",
       " 0.09595807641744614,\n",
       " 0.021807048469781876,\n",
       " -0.05902880057692528,\n",
       " -0.01308983750641346,\n",
       " -0.0463046059012413,\n",
       " -0.006820073816925287,\n",
       " -0.0326838418841362,\n",
       " 0.09047327190637589,\n",
       " -6.209805724211037e-05,\n",
       " 0.06505360454320908,\n",
       " -0.03312647342681885,\n",
       " 0.020783428102731705,\n",
       " 0.1404172033071518,\n",
       " -0.019450969994068146,\n",
       " -0.08520375192165375,\n",
       " -0.04324895143508911,\n",
       " 0.1130896732211113,\n",
       " 0.017316658049821854,\n",
       " 0.02813931554555893,\n",
       " 0.059865936636924744,\n",
       " -0.0017198972636833787,\n",
       " -0.016637926921248436,\n",
       " -0.10962358117103577,\n",
       " -0.008502069860696793,\n",
       " 0.006379920523613691,\n",
       " 0.0673513114452362,\n",
       " 0.09948477894067764,\n",
       " -0.03506293520331383,\n",
       " -0.07012464851140976,\n",
       " 0.00656748004257679,\n",
       " -0.002490387996658683,\n",
       " 0.022393621504306793,\n",
       " -0.10517347604036331,\n",
       " 0.03246987238526344,\n",
       " -0.025093454867601395,\n",
       " -0.010573100298643112,\n",
       " -0.010109087452292442,\n",
       " 0.01269060280174017,\n",
       " -0.006102211307734251,\n",
       " -0.051748182624578476,\n",
       " -0.003116131527349353,\n",
       " 0.03177551180124283,\n",
       " 0.040140166878700256,\n",
       " 0.08033378422260284,\n",
       " -0.09289467334747314,\n",
       " 0.010551711544394493,\n",
       " -0.023708075284957886,\n",
       " 0.06296796351671219,\n",
       " -0.03694789484143257,\n",
       " -0.048125408589839935,\n",
       " -0.06486363708972931,\n",
       " -0.04678948596119881,\n",
       " 0.06017742305994034,\n",
       " -0.1109897643327713,\n",
       " -0.06415433436632156,\n",
       " -0.024473967030644417,\n",
       " -0.04275307059288025,\n",
       " -0.041393376886844635,\n",
       " 0.03428592532873154,\n",
       " -0.02650223858654499,\n",
       " 0.007850912399590015,\n",
       " 0.03831348195672035,\n",
       " 0.02452721633017063,\n",
       " 0.06254969537258148,\n",
       " 0.021796276792883873,\n",
       " -0.08026614785194397,\n",
       " 0.018978727981448174,\n",
       " 0.08421165496110916,\n",
       " 0.027041010558605194,\n",
       " -0.0783795490860939,\n",
       " 0.03331173211336136,\n",
       " -0.0521404892206192,\n",
       " -0.04923568293452263,\n",
       " -0.0005093436921015382,\n",
       " -0.040840860456228256,\n",
       " 0.061191145330667496,\n",
       " 0.03826027736067772,\n",
       " -0.0850406214594841,\n",
       " -0.019418448209762573,\n",
       " 0.054552897810935974,\n",
       " 0.02793743833899498,\n",
       " 0.024537600576877594,\n",
       " -0.06012674793601036,\n",
       " 0.0113912308588624,\n",
       " 0.02840968780219555,\n",
       " 0.0062729669734835625,\n",
       " 0.004619125742465258,\n",
       " 0.04970289766788483,\n",
       " 0.0060395183973014355,\n",
       " 0.03264942020177841,\n",
       " -0.04457081854343414,\n",
       " 0.01733415015041828,\n",
       " -0.03479548171162605,\n",
       " -0.005875060800462961,\n",
       " 0.011004585772752762,\n",
       " -2.4600844028555002e-08,\n",
       " -0.08913338929414749,\n",
       " 0.03411613032221794,\n",
       " -0.03289974480867386,\n",
       " 0.024473579600453377,\n",
       " 0.046619120985269547,\n",
       " 0.013434069231152534,\n",
       " 0.034124985337257385,\n",
       " -0.0362907350063324,\n",
       " -0.08518292754888535,\n",
       " -0.014279310591518879,\n",
       " 0.04652317240834236,\n",
       " 0.08350403606891632,\n",
       " -0.06645370274782181,\n",
       " -0.023737361654639244,\n",
       " 0.09872220456600189,\n",
       " 0.09489639848470688,\n",
       " -0.010859549045562744,\n",
       " -0.03098645806312561,\n",
       " -0.06843980401754379,\n",
       " -0.011088993400335312,\n",
       " 0.052665919065475464,\n",
       " 0.05379350110888481,\n",
       " -0.03134443610906601,\n",
       " -0.006678168661892414,\n",
       " -0.03278626129031181,\n",
       " 0.02289425954222679,\n",
       " -0.0039020520634949207,\n",
       " 0.0203696358948946,\n",
       " -0.05333094298839569,\n",
       " -0.025798283517360687,\n",
       " 0.020183900371193886,\n",
       " 0.08840306103229523,\n",
       " -0.10123813897371292,\n",
       " 0.0053666457533836365,\n",
       " -0.06371099501848221,\n",
       " -0.0020024750847369432,\n",
       " -0.0769931823015213,\n",
       " 0.007538778707385063,\n",
       " 0.044650036841630936,\n",
       " -0.07039500772953033,\n",
       " -0.001089101075194776,\n",
       " 0.07192651927471161,\n",
       " 0.009170113131403923,\n",
       " -0.012158187106251717,\n",
       " 0.03657336160540581,\n",
       " 0.03025091253221035,\n",
       " 0.005265256389975548,\n",
       " 0.03977389633655548,\n",
       " -0.01519402489066124,\n",
       " -0.054144859313964844,\n",
       " -0.07916880398988724,\n",
       " 0.01426201593130827,\n",
       " 0.06448990851640701,\n",
       " -0.0006008665077388287,\n",
       " 0.03669927269220352,\n",
       " 0.06213675066828728,\n",
       " 0.046354666352272034,\n",
       " 0.033827804028987885,\n",
       " -0.01692412607371807,\n",
       " 0.035784363746643066,\n",
       " 0.17519405484199524,\n",
       " 0.023224899545311928,\n",
       " 0.03821666166186333,\n",
       " -0.018201908096671104]"
      ]
     },
     "execution_count": 33,
     "metadata": {},
     "output_type": "execute_result"
    }
   ],
   "source": [
    "huggingface_embeddings.embed_query(\"Hello world!\")"
   ]
  },
  {
   "cell_type": "code",
   "execution_count": 34,
   "metadata": {},
   "outputs": [],
   "source": [
    "vectorstore = FAISS.from_documents(docs_after_split, huggingface_embeddings)"
   ]
  },
  {
   "cell_type": "code",
   "execution_count": 69,
   "metadata": {},
   "outputs": [],
   "source": [
    "query = \"What are the trends in median household income across different states in the united states between 2021 and 2022?\"\n"
   ]
  },
  {
   "cell_type": "code",
   "execution_count": 36,
   "metadata": {},
   "outputs": [],
   "source": [
    "relevant_documents = vectorstore.similarity_search(query)"
   ]
  },
  {
   "cell_type": "code",
   "execution_count": 53,
   "metadata": {},
   "outputs": [],
   "source": [
    "retriever = vectorstore.as_retriever(search_type=\"similarity\" , search_kwargs={\"k\" : 3})"
   ]
  },
  {
   "cell_type": "code",
   "execution_count": null,
   "metadata": {},
   "outputs": [],
   "source": [
    "access_token = \"****\""
   ]
  },
  {
   "cell_type": "code",
   "execution_count": 94,
   "metadata": {},
   "outputs": [],
   "source": [
    "from langchain_community.llms import HuggingFaceHub\n",
    "\n",
    "hf = HuggingFaceHub(\n",
    "    repo_id='mistralai/Mistral-7B-v0.1',\n",
    "    model_kwargs = {\"temperature\" : 0.1 , \"max_length\" : 500}\n",
    ")"
   ]
  },
  {
   "cell_type": "code",
   "execution_count": 95,
   "metadata": {},
   "outputs": [
    {
     "data": {
      "text/plain": [
       "'What were the trends in median household income across different states in the United States between 2021 and 2022.'"
      ]
     },
     "execution_count": 95,
     "metadata": {},
     "output_type": "execute_result"
    }
   ],
   "source": [
    "query "
   ]
  },
  {
   "cell_type": "code",
   "execution_count": 97,
   "metadata": {},
   "outputs": [
    {
     "name": "stdout",
     "output_type": "stream",
     "text": [
      "What were the trends in median household income across different states in the United States between 2021 and 2022.\n",
      "\n",
      "## Introduction\n",
      "\n",
      "The median household income in the United States was $67,521 in 2021, up from $65,712 in 2020. The median household income in the United States was $67,521 in 2021, up from $65,712 in 2020. The median household income in the United States was $67,521\n"
     ]
    }
   ],
   "source": [
    "output = hf.invoke(query)\n",
    "print(output)"
   ]
  },
  {
   "cell_type": "code",
   "execution_count": 98,
   "metadata": {},
   "outputs": [],
   "source": [
    "prompt_template = \"\"\"Use the following pieces of context to answer the question at the end. Please follow the following rules:\n",
    "1. If you don't know the answer, don't try to make up an answer. Just say \"I can't find the final answer but you may want to check the following links\".\n",
    "2. If you find the answer, write the answer in a concise way with five sentences maximum.\n",
    "\n",
    "{context}\n",
    "\n",
    "Question: {question}\n",
    "\n",
    "Helpful Answer:\n",
    "\"\"\"\n",
    "\n",
    "PROMPT = PromptTemplate(\n",
    " template=prompt_template, input_variables=[\"context\", \"question\"]\n",
    ")\n",
    "     "
   ]
  },
  {
   "cell_type": "code",
   "execution_count": 99,
   "metadata": {},
   "outputs": [],
   "source": [
    "retrievalQA = RetrievalQA.from_chain_type(\n",
    "    llm=hf, \n",
    "    chain_type=\"stuff\",\n",
    "    retriever=retriever,\n",
    "    return_source_documents=True,\n",
    "    chain_type_kwargs = {\"prompt\" : PROMPT}\n",
    ")"
   ]
  },
  {
   "cell_type": "markdown",
   "metadata": {},
   "source": [
    "### USE THE RAG !!! "
   ]
  },
  {
   "cell_type": "code",
   "execution_count": 100,
   "metadata": {},
   "outputs": [
    {
     "name": "stdout",
     "output_type": "stream",
     "text": [
      "{'query': 'What were the trends in median household income across different states in the United States between 2021 and 2022.', 'result': 'Use the following pieces of context to answer the question at the end. Please follow the following rules:\\n1. If you don\\'t know the answer, don\\'t try to make up an answer. Just say \"I can\\'t find the final answer but you may want to check the following links\".\\n2. If you find the answer, write the answer in a concise way with five sentences maximum.\\n\\nhold income in 2022 was $24,112 \\n(Table 1 and Figure 2). Median \\nhousehold income was lower than \\nthe U.S. median in 30 states and \\nPuerto Rico. It was higher than the \\nU.S. median in 17 states and the \\nDistrict of Columbia. The medians \\nfor Arizona, Oregon, and Vermont \\nwere not statistically different from \\nthe U.S. median.\\nFrom 2021 to 2022, five states—\\nAlabama, Alaska, Delaware, Florida, \\nand Utah—showed a statistically \\nsignificant increase in real median \\nhousehold income; 17 states \\nshowed a decrease. Real median \\nhousehold income in 2022 was not \\nstatistically different from that in \\n2021 for 28 states, the District of \\nColumbia, and Puerto Rico  \\n(Table 1).\\n\\nComparisons\\nThe U.S. median household income \\nin 2022 was $74,755, according \\nFigure 1.\\nMedian Household Income in the Past 12 Months in the United States: 2005–2022\\n \\nNote: Estimates for 2020 experimental data not shown. For more information on the 2020 experimental data products, \\nrefer to <www.census.gov/programs-surveys/acs/technical-documentation/user-notes/2021-02.html>. Information on \\nconﬁdentiality protection, sampling error, nonsampling error, and deﬁnitions is available at <www.census.gov/acs>.\\nSource: U.S. Census Bureau, 2005–2022 American Community Survey, 1-year estimates.\\nRecession\\n/zero.tab\\n/five.tab/five.tab\\n/six.tab/zero.tab\\n/six.tab/five.tab\\n/seven.tab/zero.tab\\n\\nCommunity Survey,” Applied Demography \\nin the 21st Century, Steven H. Murdock \\nand David A. Swanson (eds.), Springer, \\nNetherlands, 2008.\\ntopics, visit <www.census.gov/\\nprograms-surveys/acs>.\\nHIGHLIGHTS\\n• Median household income in \\nthe United States was $74,755 \\nin 2022, a decline of 0.8 percent \\nfrom last year, after adjusting \\nfor inflation.6\\n• Real median household income \\nincreased in five states and \\ndecreased in 17 states from 2021 \\nto 2022. Twenty-eight states, \\nthe District of Columbia, and \\nPuerto Rico showed no statisti-\\ncally significant differences. \\n⁶ All income estimates in this report \\nare inflation-adjusted to 2022 dollars. \\nInflation adjustments are computed using\\n\\nQuestion: What were the trends in median household income across different states in the United States between 2021 and 2022.\\n\\nHelpful Answer:\\n\\nMedian household income in the United States was $74,755 in 2022, a decline of 0.8 percent from last year, after adjusting for inflation.\\n\\nReal median household income increased in five states and decreased in 17 states from 2021 to 2022. Twenty-eight states, the District of Columbia, and Puerto Rico showed no statistically significant differences.\\n\\nThe median household income in', 'source_documents': [Document(metadata={'source': 'us_census/acsbr-017.pdf', 'page': 3}, page_content='hold income in 2022 was $24,112 \\n(Table 1 and Figure 2). Median \\nhousehold income was lower than \\nthe U.S. median in 30 states and \\nPuerto Rico. It was higher than the \\nU.S. median in 17 states and the \\nDistrict of Columbia. The medians \\nfor Arizona, Oregon, and Vermont \\nwere not statistically different from \\nthe U.S. median.\\nFrom 2021 to 2022, five states—\\nAlabama, Alaska, Delaware, Florida, \\nand Utah—showed a statistically \\nsignificant increase in real median \\nhousehold income; 17 states \\nshowed a decrease. Real median \\nhousehold income in 2022 was not \\nstatistically different from that in \\n2021 for 28 states, the District of \\nColumbia, and Puerto Rico  \\n(Table 1).'), Document(metadata={'source': 'us_census/acsbr-017.pdf', 'page': 1}, page_content='Comparisons\\nThe U.S. median household income \\nin 2022 was $74,755, according \\nFigure 1.\\nMedian Household Income in the Past 12 Months in the United States: 2005–2022\\n \\nNote: Estimates for 2020 experimental data not shown. For more information on the 2020 experimental data products, \\nrefer to <www.census.gov/programs-surveys/acs/technical-documentation/user-notes/2021-02.html>. Information on \\nconﬁdentiality protection, sampling error, nonsampling error, and deﬁnitions is available at <www.census.gov/acs>.\\nSource: U.S. Census Bureau, 2005–2022 American Community Survey, 1-year estimates.\\nRecession\\n/zero.tab\\n/five.tab/five.tab\\n/six.tab/zero.tab\\n/six.tab/five.tab\\n/seven.tab/zero.tab'), Document(metadata={'source': 'us_census/acsbr-017.pdf', 'page': 1}, page_content='Community Survey,” Applied Demography \\nin the 21st Century, Steven H. Murdock \\nand David A. Swanson (eds.), Springer, \\nNetherlands, 2008.\\ntopics, visit <www.census.gov/\\nprograms-surveys/acs>.\\nHIGHLIGHTS\\n• Median household income in \\nthe United States was $74,755 \\nin 2022, a decline of 0.8 percent \\nfrom last year, after adjusting \\nfor inflation.6\\n• Real median household income \\nincreased in five states and \\ndecreased in 17 states from 2021 \\nto 2022. Twenty-eight states, \\nthe District of Columbia, and \\nPuerto Rico showed no statisti-\\ncally significant differences. \\n⁶ All income estimates in this report \\nare inflation-adjusted to 2022 dollars. \\nInflation adjustments are computed using')]}\n"
     ]
    }
   ],
   "source": [
    "result = retrievalQA.invoke({\"query\" : query})\n",
    "print(result)"
   ]
  },
  {
   "cell_type": "code",
   "execution_count": 104,
   "metadata": {},
   "outputs": [
    {
     "name": "stdout",
     "output_type": "stream",
     "text": [
      "dict_keys(['query', 'result', 'source_documents'])\n"
     ]
    }
   ],
   "source": [
    "print(result.keys())"
   ]
  },
  {
   "cell_type": "code",
   "execution_count": 102,
   "metadata": {},
   "outputs": [
    {
     "name": "stdout",
     "output_type": "stream",
     "text": [
      "There are 3 documents retrieved which are relevant to the query.\n",
      "****************************************************************************************************\n",
      "Relevant Document #1:\n",
      "Source file: us_census/acsbr-017.pdf, Page: 3\n",
      "Content: hold income in 2022 was $24,112 \n",
      "(Table 1 and Figure 2). Median \n",
      "household income was lower than \n",
      "the U.S. median in 30 states and \n",
      "Puerto Rico. It was higher than the \n",
      "U.S. median in 17 states and the \n",
      "District of Columbia. The medians \n",
      "for Arizona, Oregon, and Vermont \n",
      "were not statistically different from \n",
      "the U.S. median.\n",
      "From 2021 to 2022, five states—\n",
      "Alabama, Alaska, Delaware, Florida, \n",
      "and Utah—showed a statistically \n",
      "significant increase in real median \n",
      "household income; 17 states \n",
      "showed a decrease. Real median \n",
      "household income in 2022 was not \n",
      "statistically different from that in \n",
      "2021 for 28 states, the District of \n",
      "Columbia, and Puerto Rico  \n",
      "(Table 1).\n",
      "----------------------------------------------------------------------------------------------------\n",
      "There are 3 documents retrieved which are relevant to the query.\n",
      "Relevant Document #2:\n",
      "Source file: us_census/acsbr-017.pdf, Page: 1\n",
      "Content: Comparisons\n",
      "The U.S. median household income \n",
      "in 2022 was $74,755, according \n",
      "Figure 1.\n",
      "Median Household Income in the Past 12 Months in the United States: 2005–2022\n",
      " \n",
      "Note: Estimates for 2020 experimental data not shown. For more information on the 2020 experimental data products, \n",
      "refer to <www.census.gov/programs-surveys/acs/technical-documentation/user-notes/2021-02.html>. Information on \n",
      "conﬁdentiality protection, sampling error, nonsampling error, and deﬁnitions is available at <www.census.gov/acs>.\n",
      "Source: U.S. Census Bureau, 2005–2022 American Community Survey, 1-year estimates.\n",
      "Recession\n",
      "/zero.tab\n",
      "/five.tab/five.tab\n",
      "/six.tab/zero.tab\n",
      "/six.tab/five.tab\n",
      "/seven.tab/zero.tab\n",
      "----------------------------------------------------------------------------------------------------\n",
      "There are 3 documents retrieved which are relevant to the query.\n",
      "Relevant Document #3:\n",
      "Source file: us_census/acsbr-017.pdf, Page: 1\n",
      "Content: Community Survey,” Applied Demography \n",
      "in the 21st Century, Steven H. Murdock \n",
      "and David A. Swanson (eds.), Springer, \n",
      "Netherlands, 2008.\n",
      "topics, visit <www.census.gov/\n",
      "programs-surveys/acs>.\n",
      "HIGHLIGHTS\n",
      "• Median household income in \n",
      "the United States was $74,755 \n",
      "in 2022, a decline of 0.8 percent \n",
      "from last year, after adjusting \n",
      "for inflation.6\n",
      "• Real median household income \n",
      "increased in five states and \n",
      "decreased in 17 states from 2021 \n",
      "to 2022. Twenty-eight states, \n",
      "the District of Columbia, and \n",
      "Puerto Rico showed no statisti-\n",
      "cally significant differences. \n",
      "⁶ All income estimates in this report \n",
      "are inflation-adjusted to 2022 dollars. \n",
      "Inflation adjustments are computed using\n",
      "----------------------------------------------------------------------------------------------------\n",
      "There are 3 documents retrieved which are relevant to the query.\n"
     ]
    }
   ],
   "source": [
    "relevant_docs = result['source_documents']\n",
    "print(f'There are {len(relevant_docs)} documents retrieved which are relevant to the query.')\n",
    "print(\"*\" * 100)\n",
    "for i, doc in enumerate(relevant_docs):\n",
    "    print(f\"Relevant Document #{i+1}:\\nSource file: {doc.metadata['source']}, Page: {doc.metadata['page']}\\nContent: {doc.page_content}\")\n",
    "    print(\"-\"*100)\n",
    "    print(f'There are {len(relevant_docs)} documents retrieved which are relevant to the query.')"
   ]
  },
  {
   "cell_type": "code",
   "execution_count": null,
   "metadata": {},
   "outputs": [],
   "source": []
  }
 ],
 "metadata": {
  "kernelspec": {
   "display_name": "venv",
   "language": "python",
   "name": "python3"
  },
  "language_info": {
   "codemirror_mode": {
    "name": "ipython",
    "version": 3
   },
   "file_extension": ".py",
   "mimetype": "text/x-python",
   "name": "python",
   "nbconvert_exporter": "python",
   "pygments_lexer": "ipython3",
   "version": "3.12.7"
  }
 },
 "nbformat": 4,
 "nbformat_minor": 2
}
